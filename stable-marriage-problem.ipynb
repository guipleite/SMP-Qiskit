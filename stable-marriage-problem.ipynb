{
 "cells": [
  {
   "cell_type": "markdown",
   "metadata": {},
   "source": [
    "# Stable Marriage Problem\n",
    "\n",
    "#### Gabriel Monteiro\n",
    "#### Guilherme Leite\n",
    "<br>\n",
    "\n",
    "The stable marriage (SMP) or pairing problem, it consists in finding a stable pair for two equally sized groups of elements where each of them has an order of preferences for the elements of the other group. A stable match is achieved when neither of the parties have a better possible match. This problem can take many forms, such as students applying for universities, job openings and applicants, assigning users to servers in a large distributed Internet service or finding the best combinations of couples in a dating platform, which is the one we will focus on. We will consider there are only males and females on the platform and that males are only attracted to females and vice versa.\n",
    "\n",
    "![exemplo](https://www.science4all.org/wp-content/uploads/2012/06/preferences1.png \"Exemplo de diagrama PNG\")\n",
    "<br>\n",
    "\n",
    "Each person will be an object of the following class, they will have an assigned name, gender, list of preferences, relationship status, who theyre in a relationship with and to whom they have alredy proposed, the class also has methods to match and unmatch a couple and to check if thre's a possible better match.\n",
    "\n"
   ]
  },
  {
   "cell_type": "code",
   "execution_count": 1,
   "metadata": {},
   "outputs": [],
   "source": [
    "class Person:\n",
    "\n",
    "    def __init__(self, name, status, gender, preferences, engaged_to, proposed_to):\n",
    "        self.name = name\n",
    "        self.isFree = status\n",
    "        self.gender = gender\n",
    "        self.preferences = preferences\n",
    "        self.engaged_to = engaged_to\n",
    "        self.proposed_to = proposed_to\n",
    "\n",
    "    def break_up(self):\n",
    "        partner = self.engaged_to\n",
    "        \n",
    "        if not self.isFree:\n",
    "            self.engaged_to = \"\"\n",
    "            self.isFree = True\n",
    "            print(self.name, \"just unmatched   \", partner.name)\n",
    "            \n",
    "    def which_loves_more(self, person1, person2):\n",
    "        for i in self.preferences:\n",
    "\n",
    "            if i == person1.name:\n",
    "                return person1\n",
    "            if i == person2.name:\n",
    "                return person2\n",
    "                \n",
    "    def engage(self, partner):\n",
    "        self.engaged_to = partner\n",
    "        self.isFree = False\n",
    "        partner.engaged_to = self\n",
    "        partner.isFree = False\n",
    "        print(self.name, \"just matched with\", partner.name)"
   ]
  },
  {
   "cell_type": "markdown",
   "metadata": {},
   "source": [
    "The male names will be set as capital letters while the females will be numbers, each person has a ranking of the elements of the other group from most prefered to least."
   ]
  },
  {
   "cell_type": "code",
   "execution_count": 2,
   "metadata": {},
   "outputs": [],
   "source": [
    "males = [Person(\"A\",True,\"male\",[\"1\", \"2\", \"3\", \"4\"],\"\",[]),\n",
    "         Person(\"B\",True,\"male\",[\"1\", \"4\", \"3\", \"2\"],\"\",[]),\n",
    "         Person(\"C\",True,\"male\",[\"2\", \"1\", \"3\", \"4\"],\"\",[]),\n",
    "         Person(\"D\",True,\"male\",[\"4\", \"2\", \"3\", \"1\"],\"\",[])\n",
    "        ]\n",
    "\n",
    "females = [Person(\"1\",True,\"female\",[\"D\", \"C\", \"A\", \"B\"],\"\",[]),\n",
    "           Person(\"2\",True,\"female\",[\"B\", \"D\", \"A\", \"C\"],\"\",[]),\n",
    "           Person(\"3\",True,\"female\",[\"D\", \"A\", \"B\", \"C\"],\"\",[]),\n",
    "           Person(\"4\",True,\"female\",[\"C\", \"B\", \"A\", \"D\"],\"\",[])\n",
    "          ]"
   ]
  },
  {
   "cell_type": "markdown",
   "metadata": {},
   "source": [
    "Now we can iterate trough the dataframes (we chose the males as reference) and check if each person is single, has a parter and if theyre a beNow we can iterate trough the dataframes (we chose the males as reference) and check if each person is single, has a partner and if they’re a better match with someone else."
   ]
  },
  {
   "cell_type": "code",
   "execution_count": 3,
   "metadata": {
    "tags": []
   },
   "outputs": [],
   "source": [
    "def main(males, females):\n",
    "    while (True):\n",
    "        possibleCouples = len(males)\n",
    "        couples = 1\n",
    "        for m in males:\n",
    "\n",
    "            if (m.isFree == False) and (len(m.proposed_to) != possibleCouples):\n",
    "                couples += 1\n",
    "                if couples == possibleCouples:\n",
    "                    print(\"\\nFinished!\")\n",
    "                    return\n",
    "            else:\n",
    "                couples -=1\n",
    "\n",
    "            for x in range(0, possibleCouples):\n",
    "                if m.engaged_to == \"\":\n",
    "                    if x not in m.proposed_to:\n",
    "                        m.proposed_to.append(x)\n",
    "\n",
    "                        woman_name = m.preferences[x]\n",
    "                        for w in females:\n",
    "                            if woman_name == w.name:\n",
    "                                woman = w\n",
    "\n",
    "                        if woman.engaged_to != \"\":\n",
    "                            current = woman.engaged_to\n",
    "                            likes_more = woman.which_loves_more(current, m)\n",
    "\n",
    "                            likes_more.engage(woman)\n",
    "\n",
    "                            if likes_more != current:\n",
    "                                current.break_up()\n",
    "                        else:\n",
    "                            m.engage(woman)\n",
    "                            "
   ]
  },
  {
   "cell_type": "markdown",
   "metadata": {},
   "source": [
    "<br></br>\n",
    "### Testing\n",
    "<br></br>\n",
    "Finally let's test the program the groups used will be the males and females presented above and the best pairs should be:\n",
    "\n",
    "\n",
    "- A - 3\n",
    "- B - 4\n",
    "- C - 1\n",
    "- D - 2"
   ]
  },
  {
   "cell_type": "code",
   "execution_count": 4,
   "metadata": {
    "tags": []
   },
   "outputs": [
    {
     "name": "stdout",
     "output_type": "stream",
     "text": [
      "A just matched with 1\n",
      "A just matched with 1\n",
      "B just matched with 4\n",
      "C just matched with 2\n",
      "B just matched with 4\n",
      "D just matched with 2\n",
      "C just unmatched    2\n",
      "C just matched with 1\n",
      "A just unmatched    1\n",
      "D just matched with 2\n",
      "A just matched with 3\n",
      "\n",
      "Finished!\n",
      "A  <--->  3\n",
      "B  <--->  4\n",
      "C  <--->  1\n",
      "D  <--->  2\n"
     ]
    }
   ],
   "source": [
    "main(males, females)\n",
    "\n",
    "for m in males:\n",
    "    guy = m.name\n",
    "    girl = (m.engaged_to).name\n",
    "    print(guy,\" <---> \", girl)"
   ]
  },
  {
   "cell_type": "markdown",
   "metadata": {},
   "source": [
    "\n",
    "We can now test the algorithm again with larger groups to see if the results stay true.\n",
    "\n"
   ]
  },
  {
   "cell_type": "code",
   "execution_count": 5,
   "metadata": {},
   "outputs": [],
   "source": [
    "males = [Person(\"A\",True,\"male\",[\"1\", \"2\", \"3\", \"4\", \"5\", \"6\"],\"\",[]),\n",
    "         Person(\"B\",True,\"male\",[\"2\", \"3\", \"5\", \"1\", \"4\", \"6\"],\"\",[]),\n",
    "         Person(\"C\",True,\"male\",[\"2\", \"3\", \"1\", \"5\", \"4\", \"6\"],\"\",[]),\n",
    "         Person(\"D\",True,\"male\",[\"2\", \"3\", \"1\", \"5\", \"4\", \"6\"],\"\",[]),\n",
    "         Person(\"E\",True,\"male\",[\"1\", \"3\", \"2\", \"5\", \"4\", \"6\"],\"\",[]),\n",
    "         Person(\"F\",True,\"male\",[\"2\", \"3\", \"1\", \"5\", \"4\", \"6\"],\"\",[]),\n",
    "        ]\n",
    "\n",
    "females = [Person(\"1\",True,\"female\",[\"A\", \"B\", \"C\", \"E\", \"D\", \"F\"],\"\",[]),\n",
    "           Person(\"2\",True,\"female\",[\"C\", \"A\", \"B\", \"D\", \"E\", \"F\"],\"\",[]),\n",
    "           Person(\"3\",True,\"female\",[\"C\", \"A\", \"B\", \"D\", \"E\", \"F\"],\"\",[]),\n",
    "           Person(\"4\",True,\"female\",[\"A\", \"B\", \"C\", \"E\", \"D\", \"F\"],\"\",[]),\n",
    "           Person(\"5\",True,\"female\",[\"A\", \"B\", \"C\", \"E\", \"D\", \"F\"],\"\",[]),\n",
    "           Person(\"6\",True,\"female\",[\"B\", \"A\", \"C\", \"D\", \"F\", \"E\"],\"\",[]),\n",
    "          ]"
   ]
  },
  {
   "cell_type": "markdown",
   "metadata": {},
   "source": [
    "The best matches should be:\n",
    "- A - 1\n",
    "- B - 3\n",
    "- C - 2\n",
    "- D - 4\n",
    "- E - 5\n",
    "- F - 6"
   ]
  },
  {
   "cell_type": "code",
   "execution_count": 6,
   "metadata": {},
   "outputs": [
    {
     "name": "stdout",
     "output_type": "stream",
     "text": [
      "A just matched with 1\n",
      "B just matched with 2\n",
      "C just matched with 2\n",
      "B just unmatched    2\n",
      "C just matched with 2\n",
      "D just matched with 3\n",
      "A just matched with 1\n",
      "D just matched with 3\n",
      "C just matched with 2\n",
      "E just matched with 5\n",
      "C just matched with 2\n",
      "D just matched with 3\n",
      "A just matched with 1\n",
      "E just matched with 5\n",
      "F just matched with 4\n",
      "B just matched with 3\n",
      "D just unmatched    3\n",
      "A just matched with 1\n",
      "E just matched with 5\n",
      "D just matched with 4\n",
      "F just unmatched    4\n",
      "F just matched with 6\n",
      "\n",
      "Finished!\n",
      "A  <--->  1\n",
      "B  <--->  3\n",
      "C  <--->  2\n",
      "D  <--->  4\n",
      "E  <--->  5\n",
      "F  <--->  6\n"
     ]
    }
   ],
   "source": [
    "main(males, females)\n",
    "\n",
    "for m in males:\n",
    "    guy = m.name\n",
    "    girl = (m.engaged_to).name\n",
    "    print(guy,\" <---> \", girl)"
   ]
  }
 ],
 "metadata": {
  "kernelspec": {
   "display_name": "Python 3",
   "language": "python",
   "name": "python3"
  },
  "language_info": {
   "codemirror_mode": {
    "name": "ipython",
    "version": 3
   },
   "file_extension": ".py",
   "mimetype": "text/x-python",
   "name": "python",
   "nbconvert_exporter": "python",
   "pygments_lexer": "ipython3",
   "version": "3.8.2"
  }
 },
 "nbformat": 4,
 "nbformat_minor": 2
}
